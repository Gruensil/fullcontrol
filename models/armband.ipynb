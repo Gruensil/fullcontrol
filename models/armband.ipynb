{
  "cells": [
    {
      "attachments": {},
      "cell_type": "markdown",
      "metadata": {
        "id": "ac9_FmrCOwQL"
      },
      "source": [
        "# FullControl design template\n",
        "\n",
        "*<<< check out demo models [here](https://github.com/FullControlXYZ/fullcontrol/tree/master/models/README.md) >>>*\n",
        "  \n",
        "run all cells in this notebook, or press shift+enter to run each cell sequentially \n",
        "\n",
        "if you change one of the code cells, make sure you run it and all subsequent cells again (in order)\n",
        "\n",
        "*this document is a jupyter notebook - if they're new to you, check out how they work: [link](https://www.google.com/search?q=ipynb+tutorial), [link](https://jupyter.org/try-jupyter/retro/notebooks/?path=notebooks/Intro.ipynb), [link](https://colab.research.google.com/)*"
      ]
    },
    {
      "cell_type": "code",
      "execution_count": 92,
      "metadata": {
        "id": "57XXnogSOvDx"
      },
      "outputs": [],
      "source": [
        "import fullcontrol as fc\n",
        "import math"
      ]
    },
    {
      "cell_type": "code",
      "execution_count": 93,
      "metadata": {},
      "outputs": [],
      "source": [
        "# printer/gcode parameters\n",
        "\n",
        "design_name = 'armband'\n",
        "nozzle_temp = 210\n",
        "bed_temp = 50\n",
        "print_speed = 1000\n",
        "fan_percent = 100\n",
        "printer_name='prusa_i3' # generic / ultimaker2plus / prusa_i3 / ender_3 / cr_10 / bambulab_x1 / toolchanger_T0"
      ]
    },
    {
      "cell_type": "code",
      "execution_count": 94,
      "metadata": {
        "id": "DeWKjlzbPC0u"
      },
      "outputs": [],
      "source": [
        "# design parameters\n",
        "\n",
        "EW = 0.4 # extrusion width\n",
        "EH = 0.3 # extrusion height (and layer height)\n",
        "initial_z = EH*0.6 # initial nozzle position is set to 0.6x the extrusion height to get a bit of 'squish' for good bed adhesion\n",
        "\n",
        "total_height = 4 # [mm]\n",
        "circumference = 20 # [mm]\n",
        "num_layer = 2\n",
        "squish_factor = 0.1 # sqish lines in % of extrusion width\n",
        "overlap_factor = 0.1 # overlap in % between lines\n",
        "center_point = (100, 100) # [mm]"
      ]
    },
    {
      "cell_type": "code",
      "execution_count": 95,
      "metadata": {},
      "outputs": [],
      "source": [
        "def generate_circle_points(num_points, radius, phase=0, offset_x=0, offset_y=0):\n",
        "    circle_points = []\n",
        "    for i in range(num_points):\n",
        "        theta = 2 * math.pi * i / num_points + phase\n",
        "        x = radius * math.cos(theta) + offset_x\n",
        "        y = radius * math.sin(theta) + offset_y\n",
        "        circle_points.append((x, y))\n",
        "    return circle_points"
      ]
    },
    {
      "cell_type": "code",
      "execution_count": 96,
      "metadata": {
        "id": "kLPh7aTwQKrF"
      },
      "outputs": [],
      "source": [
        "# generate the design (make sure you've run the above cells before running this cell)\n",
        "\n",
        "steps = []\n",
        "\n",
        "steps.append(fc.Point(x=20, y=20, z=initial_z))\n",
        "steps.append(fc.Point(x=40, y=20, z=initial_z + 1))\n",
        "steps.append(fc.Point(x=20, y=40, z=initial_z))\n",
        "\n",
        "num_lines = int(circumference / (EW * (1 - squish_factor)) / 2)\n",
        "layer_height = total_height / num_layer\n",
        "for layer in range(num_layer):\n",
        "  radius = circumference/(2*math.pi)\n",
        "  phase = (layer % 2) * 2 * math.pi/circumference * EW\n",
        "  circle_points = generate_circle_points(num_lines, radius, phase, *center_point)\n",
        "  steps.append(fc.Extruder(on=False))\n",
        "  for pt in circle_points:\n",
        "\n",
        "    steps.append(fc.Point(x=pt[0], y=pt[1], z=initial_z + max(0, layer_height * (layer - overlap_factor))))\n",
        "    steps.append(fc.Extruder(on=True))\n",
        "    steps.append(fc.Point(x=pt[0]+0.01, y=pt[1]+0.01, z=initial_z + min(total_height, layer_height * (layer + overlap_factor + 1))))\n",
        "    \n",
        "    steps.append(fc.Extruder(on=False))\n",
        "    steps.append(fc.Point(x=pt[0]+0.01, y=pt[1]+0.01, z=initial_z + min(total_height, layer_height * (layer + overlap_factor + 1)+0.01)))\n",
        "    steps.append(fc.StationaryExtrusion(volume=-1.5, speed=250)) # retraction"
      ]
    },
    {
      "cell_type": "code",
      "execution_count": 97,
      "metadata": {
        "id": "ZVdfnpt5RSUi"
      },
      "outputs": [
        {
          "data": {
            "application/vnd.plotly.v1+json": {
              "config": {
                "plotlyServerURL": "https://plot.ly"
              },
              "data": [
                {
                  "line": {
                    "color": [
                      "rgb(0.00, 0.00, 255.00)",
                      "rgb(0.00, 63.75, 255.00)",
                      "rgb(0.00, 0.00, 255.00)"
                    ],
                    "width": 4
                  },
                  "mode": "lines",
                  "showlegend": false,
                  "type": "scatter3d",
                  "x": [
                    20,
                    40,
                    20
                  ],
                  "y": [
                    20,
                    20,
                    40
                  ],
                  "z": [
                    0.18,
                    1.18,
                    0.18
                  ]
                },
                {
                  "line": {
                    "color": [
                      "rgb(191.25, 127.50, 127.50)",
                      "rgb(191.25, 127.50, 127.50)"
                    ],
                    "width": 1
                  },
                  "mode": "lines",
                  "showlegend": false,
                  "type": "scatter3d",
                  "x": [
                    20,
                    103.183
                  ],
                  "y": [
                    40,
                    100
                  ],
                  "z": [
                    0.18,
                    0.18
                  ]
                },
                {
                  "line": {
                    "color": [
                      "rgb(0.00, 0.00, 255.00)",
                      "rgb(0.00, 140.25, 255.00)"
                    ],
                    "width": 4
                  },
                  "mode": "lines",
                  "showlegend": false,
                  "type": "scatter3d",
                  "x": [
                    103.183,
                    103.193
                  ],
                  "y": [
                    100,
                    100.01
                  ],
                  "z": [
                    0.18,
                    2.38
                  ]
                },
                {
                  "line": {
                    "color": [
                      "rgb(191.25, 127.50, 127.50)",
                      "rgb(191.25, 127.50, 127.50)",
                      "rgb(191.25, 127.50, 127.50)"
                    ],
                    "width": 1
                  },
                  "mode": "lines",
                  "showlegend": false,
                  "type": "scatter3d",
                  "x": [
                    103.193,
                    103.193,
                    103.097
                  ],
                  "y": [
                    100.01,
                    100.01,
                    100.734
                  ],
                  "z": [
                    2.38,
                    2.39,
                    0.18
                  ]
                },
                {
                  "line": {
                    "color": [
                      "rgb(0.00, 0.00, 255.00)",
                      "rgb(0.00, 140.25, 255.00)"
                    ],
                    "width": 4
                  },
                  "mode": "lines",
                  "showlegend": false,
                  "type": "scatter3d",
                  "x": [
                    103.097,
                    103.107
                  ],
                  "y": [
                    100.734,
                    100.744
                  ],
                  "z": [
                    0.18,
                    2.38
                  ]
                },
                {
                  "line": {
                    "color": [
                      "rgb(191.25, 127.50, 127.50)",
                      "rgb(191.25, 127.50, 127.50)",
                      "rgb(191.25, 127.50, 127.50)"
                    ],
                    "width": 1
                  },
                  "mode": "lines",
                  "showlegend": false,
                  "type": "scatter3d",
                  "x": [
                    103.107,
                    103.107,
                    102.845
                  ],
                  "y": [
                    100.744,
                    100.744,
                    101.429
                  ],
                  "z": [
                    2.38,
                    2.39,
                    0.18
                  ]
                },
                {
                  "line": {
                    "color": [
                      "rgb(0.00, 0.00, 255.00)",
                      "rgb(0.00, 140.25, 255.00)"
                    ],
                    "width": 4
                  },
                  "mode": "lines",
                  "showlegend": false,
                  "type": "scatter3d",
                  "x": [
                    102.845,
                    102.855
                  ],
                  "y": [
                    101.429,
                    101.439
                  ],
                  "z": [
                    0.18,
                    2.38
                  ]
                },
                {
                  "line": {
                    "color": [
                      "rgb(191.25, 127.50, 127.50)",
                      "rgb(191.25, 127.50, 127.50)",
                      "rgb(191.25, 127.50, 127.50)"
                    ],
                    "width": 1
                  },
                  "mode": "lines",
                  "showlegend": false,
                  "type": "scatter3d",
                  "x": [
                    102.855,
                    102.855,
                    102.438
                  ],
                  "y": [
                    101.439,
                    101.439,
                    102.046
                  ],
                  "z": [
                    2.38,
                    2.39,
                    0.18
                  ]
                },
                {
                  "line": {
                    "color": [
                      "rgb(0.00, 0.00, 255.00)",
                      "rgb(0.00, 140.25, 255.00)"
                    ],
                    "width": 4
                  },
                  "mode": "lines",
                  "showlegend": false,
                  "type": "scatter3d",
                  "x": [
                    102.438,
                    102.448
                  ],
                  "y": [
                    102.046,
                    102.056
                  ],
                  "z": [
                    0.18,
                    2.38
                  ]
                },
                {
                  "line": {
                    "color": [
                      "rgb(191.25, 127.50, 127.50)",
                      "rgb(191.25, 127.50, 127.50)",
                      "rgb(191.25, 127.50, 127.50)"
                    ],
                    "width": 1
                  },
                  "mode": "lines",
                  "showlegend": false,
                  "type": "scatter3d",
                  "x": [
                    102.448,
                    102.448,
                    101.901
                  ],
                  "y": [
                    102.056,
                    102.056,
                    102.553
                  ],
                  "z": [
                    2.38,
                    2.39,
                    0.18
                  ]
                },
                {
                  "line": {
                    "color": [
                      "rgb(0.00, 0.00, 255.00)",
                      "rgb(0.00, 140.25, 255.00)"
                    ],
                    "width": 4
                  },
                  "mode": "lines",
                  "showlegend": false,
                  "type": "scatter3d",
                  "x": [
                    101.901,
                    101.911
                  ],
                  "y": [
                    102.553,
                    102.563
                  ],
                  "z": [
                    0.18,
                    2.38
                  ]
                },
                {
                  "line": {
                    "color": [
                      "rgb(191.25, 127.50, 127.50)",
                      "rgb(191.25, 127.50, 127.50)",
                      "rgb(191.25, 127.50, 127.50)"
                    ],
                    "width": 1
                  },
                  "mode": "lines",
                  "showlegend": false,
                  "type": "scatter3d",
                  "x": [
                    101.911,
                    101.911,
                    101.261
                  ],
                  "y": [
                    102.563,
                    102.563,
                    102.923
                  ],
                  "z": [
                    2.38,
                    2.39,
                    0.18
                  ]
                },
                {
                  "line": {
                    "color": [
                      "rgb(0.00, 0.00, 255.00)",
                      "rgb(0.00, 140.25, 255.00)"
                    ],
                    "width": 4
                  },
                  "mode": "lines",
                  "showlegend": false,
                  "type": "scatter3d",
                  "x": [
                    101.261,
                    101.271
                  ],
                  "y": [
                    102.923,
                    102.933
                  ],
                  "z": [
                    0.18,
                    2.38
                  ]
                },
                {
                  "line": {
                    "color": [
                      "rgb(191.25, 127.50, 127.50)",
                      "rgb(191.25, 127.50, 127.50)",
                      "rgb(191.25, 127.50, 127.50)"
                    ],
                    "width": 1
                  },
                  "mode": "lines",
                  "showlegend": false,
                  "type": "scatter3d",
                  "x": [
                    101.271,
                    101.271,
                    100.553
                  ],
                  "y": [
                    102.933,
                    102.933,
                    103.135
                  ],
                  "z": [
                    2.38,
                    2.39,
                    0.18
                  ]
                },
                {
                  "line": {
                    "color": [
                      "rgb(0.00, 0.00, 255.00)",
                      "rgb(0.00, 140.25, 255.00)"
                    ],
                    "width": 4
                  },
                  "mode": "lines",
                  "showlegend": false,
                  "type": "scatter3d",
                  "x": [
                    100.553,
                    100.563
                  ],
                  "y": [
                    103.135,
                    103.145
                  ],
                  "z": [
                    0.18,
                    2.38
                  ]
                },
                {
                  "line": {
                    "color": [
                      "rgb(191.25, 127.50, 127.50)",
                      "rgb(191.25, 127.50, 127.50)",
                      "rgb(191.25, 127.50, 127.50)"
                    ],
                    "width": 1
                  },
                  "mode": "lines",
                  "showlegend": false,
                  "type": "scatter3d",
                  "x": [
                    100.563,
                    100.563,
                    99.815
                  ],
                  "y": [
                    103.145,
                    103.145,
                    103.178
                  ],
                  "z": [
                    2.38,
                    2.39,
                    0.18
                  ]
                },
                {
                  "line": {
                    "color": [
                      "rgb(0.00, 0.00, 255.00)",
                      "rgb(0.00, 140.25, 255.00)"
                    ],
                    "width": 4
                  },
                  "mode": "lines",
                  "showlegend": false,
                  "type": "scatter3d",
                  "x": [
                    99.815,
                    99.825
                  ],
                  "y": [
                    103.178,
                    103.188
                  ],
                  "z": [
                    0.18,
                    2.38
                  ]
                },
                {
                  "line": {
                    "color": [
                      "rgb(191.25, 127.50, 127.50)",
                      "rgb(191.25, 127.50, 127.50)",
                      "rgb(191.25, 127.50, 127.50)"
                    ],
                    "width": 1
                  },
                  "mode": "lines",
                  "showlegend": false,
                  "type": "scatter3d",
                  "x": [
                    99.825,
                    99.825,
                    99.087
                  ],
                  "y": [
                    103.188,
                    103.188,
                    103.049
                  ],
                  "z": [
                    2.38,
                    2.39,
                    0.18
                  ]
                },
                {
                  "line": {
                    "color": [
                      "rgb(0.00, 0.00, 255.00)",
                      "rgb(0.00, 140.25, 255.00)"
                    ],
                    "width": 4
                  },
                  "mode": "lines",
                  "showlegend": false,
                  "type": "scatter3d",
                  "x": [
                    99.087,
                    99.097
                  ],
                  "y": [
                    103.049,
                    103.059
                  ],
                  "z": [
                    0.18,
                    2.38
                  ]
                },
                {
                  "line": {
                    "color": [
                      "rgb(191.25, 127.50, 127.50)",
                      "rgb(191.25, 127.50, 127.50)",
                      "rgb(191.25, 127.50, 127.50)"
                    ],
                    "width": 1
                  },
                  "mode": "lines",
                  "showlegend": false,
                  "type": "scatter3d",
                  "x": [
                    99.097,
                    99.097,
                    98.408
                  ],
                  "y": [
                    103.059,
                    103.059,
                    102.757
                  ],
                  "z": [
                    2.38,
                    2.39,
                    0.18
                  ]
                },
                {
                  "line": {
                    "color": [
                      "rgb(0.00, 0.00, 255.00)",
                      "rgb(0.00, 140.25, 255.00)"
                    ],
                    "width": 4
                  },
                  "mode": "lines",
                  "showlegend": false,
                  "type": "scatter3d",
                  "x": [
                    98.408,
                    98.418
                  ],
                  "y": [
                    102.757,
                    102.767
                  ],
                  "z": [
                    0.18,
                    2.38
                  ]
                },
                {
                  "line": {
                    "color": [
                      "rgb(191.25, 127.50, 127.50)",
                      "rgb(191.25, 127.50, 127.50)",
                      "rgb(191.25, 127.50, 127.50)"
                    ],
                    "width": 1
                  },
                  "mode": "lines",
                  "showlegend": false,
                  "type": "scatter3d",
                  "x": [
                    98.418,
                    98.418,
                    97.816
                  ],
                  "y": [
                    102.767,
                    102.767,
                    102.315
                  ],
                  "z": [
                    2.38,
                    2.39,
                    0.18
                  ]
                },
                {
                  "line": {
                    "color": [
                      "rgb(0.00, 0.00, 255.00)",
                      "rgb(0.00, 140.25, 255.00)"
                    ],
                    "width": 4
                  },
                  "mode": "lines",
                  "showlegend": false,
                  "type": "scatter3d",
                  "x": [
                    97.816,
                    97.826
                  ],
                  "y": [
                    102.315,
                    102.325
                  ],
                  "z": [
                    0.18,
                    2.38
                  ]
                },
                {
                  "line": {
                    "color": [
                      "rgb(191.25, 127.50, 127.50)",
                      "rgb(191.25, 127.50, 127.50)",
                      "rgb(191.25, 127.50, 127.50)"
                    ],
                    "width": 1
                  },
                  "mode": "lines",
                  "showlegend": false,
                  "type": "scatter3d",
                  "x": [
                    97.826,
                    97.826,
                    97.341
                  ],
                  "y": [
                    102.325,
                    102.325,
                    101.749
                  ],
                  "z": [
                    2.38,
                    2.39,
                    0.18
                  ]
                },
                {
                  "line": {
                    "color": [
                      "rgb(0.00, 0.00, 255.00)",
                      "rgb(0.00, 140.25, 255.00)"
                    ],
                    "width": 4
                  },
                  "mode": "lines",
                  "showlegend": false,
                  "type": "scatter3d",
                  "x": [
                    97.341,
                    97.351
                  ],
                  "y": [
                    101.749,
                    101.759
                  ],
                  "z": [
                    0.18,
                    2.38
                  ]
                },
                {
                  "line": {
                    "color": [
                      "rgb(191.25, 127.50, 127.50)",
                      "rgb(191.25, 127.50, 127.50)",
                      "rgb(191.25, 127.50, 127.50)"
                    ],
                    "width": 1
                  },
                  "mode": "lines",
                  "showlegend": false,
                  "type": "scatter3d",
                  "x": [
                    97.351,
                    97.351,
                    97.009
                  ],
                  "y": [
                    101.759,
                    101.759,
                    101.089
                  ],
                  "z": [
                    2.38,
                    2.39,
                    0.18
                  ]
                },
                {
                  "line": {
                    "color": [
                      "rgb(0.00, 0.00, 255.00)",
                      "rgb(0.00, 140.25, 255.00)"
                    ],
                    "width": 4
                  },
                  "mode": "lines",
                  "showlegend": false,
                  "type": "scatter3d",
                  "x": [
                    97.009,
                    97.019
                  ],
                  "y": [
                    101.089,
                    101.099
                  ],
                  "z": [
                    0.18,
                    2.38
                  ]
                },
                {
                  "line": {
                    "color": [
                      "rgb(191.25, 127.50, 127.50)",
                      "rgb(191.25, 127.50, 127.50)",
                      "rgb(191.25, 127.50, 127.50)"
                    ],
                    "width": 1
                  },
                  "mode": "lines",
                  "showlegend": false,
                  "type": "scatter3d",
                  "x": [
                    97.019,
                    97.019,
                    96.838
                  ],
                  "y": [
                    101.099,
                    101.099,
                    100.37
                  ],
                  "z": [
                    2.38,
                    2.39,
                    0.18
                  ]
                },
                {
                  "line": {
                    "color": [
                      "rgb(0.00, 0.00, 255.00)",
                      "rgb(0.00, 140.25, 255.00)"
                    ],
                    "width": 4
                  },
                  "mode": "lines",
                  "showlegend": false,
                  "type": "scatter3d",
                  "x": [
                    96.838,
                    96.848
                  ],
                  "y": [
                    100.37,
                    100.38
                  ],
                  "z": [
                    0.18,
                    2.38
                  ]
                },
                {
                  "line": {
                    "color": [
                      "rgb(191.25, 127.50, 127.50)",
                      "rgb(191.25, 127.50, 127.50)",
                      "rgb(191.25, 127.50, 127.50)"
                    ],
                    "width": 1
                  },
                  "mode": "lines",
                  "showlegend": false,
                  "type": "scatter3d",
                  "x": [
                    96.848,
                    96.848,
                    96.838
                  ],
                  "y": [
                    100.38,
                    100.38,
                    99.63
                  ],
                  "z": [
                    2.38,
                    2.39,
                    0.18
                  ]
                },
                {
                  "line": {
                    "color": [
                      "rgb(0.00, 0.00, 255.00)",
                      "rgb(0.00, 140.25, 255.00)"
                    ],
                    "width": 4
                  },
                  "mode": "lines",
                  "showlegend": false,
                  "type": "scatter3d",
                  "x": [
                    96.838,
                    96.848
                  ],
                  "y": [
                    99.63,
                    99.64
                  ],
                  "z": [
                    0.18,
                    2.38
                  ]
                },
                {
                  "line": {
                    "color": [
                      "rgb(191.25, 127.50, 127.50)",
                      "rgb(191.25, 127.50, 127.50)",
                      "rgb(191.25, 127.50, 127.50)"
                    ],
                    "width": 1
                  },
                  "mode": "lines",
                  "showlegend": false,
                  "type": "scatter3d",
                  "x": [
                    96.848,
                    96.848,
                    97.009
                  ],
                  "y": [
                    99.64,
                    99.64,
                    98.911
                  ],
                  "z": [
                    2.38,
                    2.39,
                    0.18
                  ]
                },
                {
                  "line": {
                    "color": [
                      "rgb(0.00, 0.00, 255.00)",
                      "rgb(0.00, 140.25, 255.00)"
                    ],
                    "width": 4
                  },
                  "mode": "lines",
                  "showlegend": false,
                  "type": "scatter3d",
                  "x": [
                    97.009,
                    97.019
                  ],
                  "y": [
                    98.911,
                    98.921
                  ],
                  "z": [
                    0.18,
                    2.38
                  ]
                },
                {
                  "line": {
                    "color": [
                      "rgb(191.25, 127.50, 127.50)",
                      "rgb(191.25, 127.50, 127.50)",
                      "rgb(191.25, 127.50, 127.50)"
                    ],
                    "width": 1
                  },
                  "mode": "lines",
                  "showlegend": false,
                  "type": "scatter3d",
                  "x": [
                    97.019,
                    97.019,
                    97.341
                  ],
                  "y": [
                    98.921,
                    98.921,
                    98.251
                  ],
                  "z": [
                    2.38,
                    2.39,
                    0.18
                  ]
                },
                {
                  "line": {
                    "color": [
                      "rgb(0.00, 0.00, 255.00)",
                      "rgb(0.00, 140.25, 255.00)"
                    ],
                    "width": 4
                  },
                  "mode": "lines",
                  "showlegend": false,
                  "type": "scatter3d",
                  "x": [
                    97.341,
                    97.351
                  ],
                  "y": [
                    98.251,
                    98.261
                  ],
                  "z": [
                    0.18,
                    2.38
                  ]
                },
                {
                  "line": {
                    "color": [
                      "rgb(191.25, 127.50, 127.50)",
                      "rgb(191.25, 127.50, 127.50)",
                      "rgb(191.25, 127.50, 127.50)"
                    ],
                    "width": 1
                  },
                  "mode": "lines",
                  "showlegend": false,
                  "type": "scatter3d",
                  "x": [
                    97.351,
                    97.351,
                    97.816
                  ],
                  "y": [
                    98.261,
                    98.261,
                    97.685
                  ],
                  "z": [
                    2.38,
                    2.39,
                    0.18
                  ]
                },
                {
                  "line": {
                    "color": [
                      "rgb(0.00, 0.00, 255.00)",
                      "rgb(0.00, 140.25, 255.00)"
                    ],
                    "width": 4
                  },
                  "mode": "lines",
                  "showlegend": false,
                  "type": "scatter3d",
                  "x": [
                    97.816,
                    97.826
                  ],
                  "y": [
                    97.685,
                    97.695
                  ],
                  "z": [
                    0.18,
                    2.38
                  ]
                },
                {
                  "line": {
                    "color": [
                      "rgb(191.25, 127.50, 127.50)",
                      "rgb(191.25, 127.50, 127.50)",
                      "rgb(191.25, 127.50, 127.50)"
                    ],
                    "width": 1
                  },
                  "mode": "lines",
                  "showlegend": false,
                  "type": "scatter3d",
                  "x": [
                    97.826,
                    97.826,
                    98.408
                  ],
                  "y": [
                    97.695,
                    97.695,
                    97.243
                  ],
                  "z": [
                    2.38,
                    2.39,
                    0.18
                  ]
                },
                {
                  "line": {
                    "color": [
                      "rgb(0.00, 0.00, 255.00)",
                      "rgb(0.00, 140.25, 255.00)"
                    ],
                    "width": 4
                  },
                  "mode": "lines",
                  "showlegend": false,
                  "type": "scatter3d",
                  "x": [
                    98.408,
                    98.418
                  ],
                  "y": [
                    97.243,
                    97.253
                  ],
                  "z": [
                    0.18,
                    2.38
                  ]
                },
                {
                  "line": {
                    "color": [
                      "rgb(191.25, 127.50, 127.50)",
                      "rgb(191.25, 127.50, 127.50)",
                      "rgb(191.25, 127.50, 127.50)"
                    ],
                    "width": 1
                  },
                  "mode": "lines",
                  "showlegend": false,
                  "type": "scatter3d",
                  "x": [
                    98.418,
                    98.418,
                    99.087
                  ],
                  "y": [
                    97.253,
                    97.253,
                    96.951
                  ],
                  "z": [
                    2.38,
                    2.39,
                    0.18
                  ]
                },
                {
                  "line": {
                    "color": [
                      "rgb(0.00, 0.00, 255.00)",
                      "rgb(0.00, 140.25, 255.00)"
                    ],
                    "width": 4
                  },
                  "mode": "lines",
                  "showlegend": false,
                  "type": "scatter3d",
                  "x": [
                    99.087,
                    99.097
                  ],
                  "y": [
                    96.951,
                    96.961
                  ],
                  "z": [
                    0.18,
                    2.38
                  ]
                },
                {
                  "line": {
                    "color": [
                      "rgb(191.25, 127.50, 127.50)",
                      "rgb(191.25, 127.50, 127.50)",
                      "rgb(191.25, 127.50, 127.50)"
                    ],
                    "width": 1
                  },
                  "mode": "lines",
                  "showlegend": false,
                  "type": "scatter3d",
                  "x": [
                    99.097,
                    99.097,
                    99.815
                  ],
                  "y": [
                    96.961,
                    96.961,
                    96.822
                  ],
                  "z": [
                    2.38,
                    2.39,
                    0.18
                  ]
                },
                {
                  "line": {
                    "color": [
                      "rgb(0.00, 0.00, 255.00)",
                      "rgb(0.00, 140.25, 255.00)"
                    ],
                    "width": 4
                  },
                  "mode": "lines",
                  "showlegend": false,
                  "type": "scatter3d",
                  "x": [
                    99.815,
                    99.825
                  ],
                  "y": [
                    96.822,
                    96.832
                  ],
                  "z": [
                    0.18,
                    2.38
                  ]
                },
                {
                  "line": {
                    "color": [
                      "rgb(191.25, 127.50, 127.50)",
                      "rgb(191.25, 127.50, 127.50)",
                      "rgb(191.25, 127.50, 127.50)"
                    ],
                    "width": 1
                  },
                  "mode": "lines",
                  "showlegend": false,
                  "type": "scatter3d",
                  "x": [
                    99.825,
                    99.825,
                    100.553
                  ],
                  "y": [
                    96.832,
                    96.832,
                    96.865
                  ],
                  "z": [
                    2.38,
                    2.39,
                    0.18
                  ]
                },
                {
                  "line": {
                    "color": [
                      "rgb(0.00, 0.00, 255.00)",
                      "rgb(0.00, 140.25, 255.00)"
                    ],
                    "width": 4
                  },
                  "mode": "lines",
                  "showlegend": false,
                  "type": "scatter3d",
                  "x": [
                    100.553,
                    100.563
                  ],
                  "y": [
                    96.865,
                    96.875
                  ],
                  "z": [
                    0.18,
                    2.38
                  ]
                },
                {
                  "line": {
                    "color": [
                      "rgb(191.25, 127.50, 127.50)",
                      "rgb(191.25, 127.50, 127.50)",
                      "rgb(191.25, 127.50, 127.50)"
                    ],
                    "width": 1
                  },
                  "mode": "lines",
                  "showlegend": false,
                  "type": "scatter3d",
                  "x": [
                    100.563,
                    100.563,
                    101.261
                  ],
                  "y": [
                    96.875,
                    96.875,
                    97.077
                  ],
                  "z": [
                    2.38,
                    2.39,
                    0.18
                  ]
                },
                {
                  "line": {
                    "color": [
                      "rgb(0.00, 0.00, 255.00)",
                      "rgb(0.00, 140.25, 255.00)"
                    ],
                    "width": 4
                  },
                  "mode": "lines",
                  "showlegend": false,
                  "type": "scatter3d",
                  "x": [
                    101.261,
                    101.271
                  ],
                  "y": [
                    97.077,
                    97.087
                  ],
                  "z": [
                    0.18,
                    2.38
                  ]
                },
                {
                  "line": {
                    "color": [
                      "rgb(191.25, 127.50, 127.50)",
                      "rgb(191.25, 127.50, 127.50)",
                      "rgb(191.25, 127.50, 127.50)"
                    ],
                    "width": 1
                  },
                  "mode": "lines",
                  "showlegend": false,
                  "type": "scatter3d",
                  "x": [
                    101.271,
                    101.271,
                    101.901
                  ],
                  "y": [
                    97.087,
                    97.087,
                    97.447
                  ],
                  "z": [
                    2.38,
                    2.39,
                    0.18
                  ]
                },
                {
                  "line": {
                    "color": [
                      "rgb(0.00, 0.00, 255.00)",
                      "rgb(0.00, 140.25, 255.00)"
                    ],
                    "width": 4
                  },
                  "mode": "lines",
                  "showlegend": false,
                  "type": "scatter3d",
                  "x": [
                    101.901,
                    101.911
                  ],
                  "y": [
                    97.447,
                    97.457
                  ],
                  "z": [
                    0.18,
                    2.38
                  ]
                },
                {
                  "line": {
                    "color": [
                      "rgb(191.25, 127.50, 127.50)",
                      "rgb(191.25, 127.50, 127.50)",
                      "rgb(191.25, 127.50, 127.50)"
                    ],
                    "width": 1
                  },
                  "mode": "lines",
                  "showlegend": false,
                  "type": "scatter3d",
                  "x": [
                    101.911,
                    101.911,
                    102.438
                  ],
                  "y": [
                    97.457,
                    97.457,
                    97.954
                  ],
                  "z": [
                    2.38,
                    2.39,
                    0.18
                  ]
                },
                {
                  "line": {
                    "color": [
                      "rgb(0.00, 0.00, 255.00)",
                      "rgb(0.00, 140.25, 255.00)"
                    ],
                    "width": 4
                  },
                  "mode": "lines",
                  "showlegend": false,
                  "type": "scatter3d",
                  "x": [
                    102.438,
                    102.448
                  ],
                  "y": [
                    97.954,
                    97.964
                  ],
                  "z": [
                    0.18,
                    2.38
                  ]
                },
                {
                  "line": {
                    "color": [
                      "rgb(191.25, 127.50, 127.50)",
                      "rgb(191.25, 127.50, 127.50)",
                      "rgb(191.25, 127.50, 127.50)"
                    ],
                    "width": 1
                  },
                  "mode": "lines",
                  "showlegend": false,
                  "type": "scatter3d",
                  "x": [
                    102.448,
                    102.448,
                    102.845
                  ],
                  "y": [
                    97.964,
                    97.964,
                    98.571
                  ],
                  "z": [
                    2.38,
                    2.39,
                    0.18
                  ]
                },
                {
                  "line": {
                    "color": [
                      "rgb(0.00, 0.00, 255.00)",
                      "rgb(0.00, 140.25, 255.00)"
                    ],
                    "width": 4
                  },
                  "mode": "lines",
                  "showlegend": false,
                  "type": "scatter3d",
                  "x": [
                    102.845,
                    102.855
                  ],
                  "y": [
                    98.571,
                    98.581
                  ],
                  "z": [
                    0.18,
                    2.38
                  ]
                },
                {
                  "line": {
                    "color": [
                      "rgb(191.25, 127.50, 127.50)",
                      "rgb(191.25, 127.50, 127.50)",
                      "rgb(191.25, 127.50, 127.50)"
                    ],
                    "width": 1
                  },
                  "mode": "lines",
                  "showlegend": false,
                  "type": "scatter3d",
                  "x": [
                    102.855,
                    102.855,
                    103.097
                  ],
                  "y": [
                    98.581,
                    98.581,
                    99.266
                  ],
                  "z": [
                    2.38,
                    2.39,
                    0.18
                  ]
                },
                {
                  "line": {
                    "color": [
                      "rgb(0.00, 0.00, 255.00)",
                      "rgb(0.00, 140.25, 255.00)"
                    ],
                    "width": 4
                  },
                  "mode": "lines",
                  "showlegend": false,
                  "type": "scatter3d",
                  "x": [
                    103.097,
                    103.107
                  ],
                  "y": [
                    99.266,
                    99.276
                  ],
                  "z": [
                    0.18,
                    2.38
                  ]
                },
                {
                  "line": {
                    "color": [
                      "rgb(191.25, 127.50, 127.50)",
                      "rgb(191.25, 127.50, 127.50)",
                      "rgb(191.25, 127.50, 127.50)"
                    ],
                    "width": 1
                  },
                  "mode": "lines",
                  "showlegend": false,
                  "type": "scatter3d",
                  "x": [
                    103.107,
                    103.107,
                    103.158
                  ],
                  "y": [
                    99.276,
                    99.276,
                    100.399
                  ],
                  "z": [
                    2.38,
                    2.39,
                    1.98
                  ]
                },
                {
                  "line": {
                    "color": [
                      "rgb(0.00, 114.75, 255.00)",
                      "rgb(0.00, 255.00, 255.00)"
                    ],
                    "width": 4
                  },
                  "mode": "lines",
                  "showlegend": false,
                  "type": "scatter3d",
                  "x": [
                    103.158,
                    103.168
                  ],
                  "y": [
                    100.399,
                    100.409
                  ],
                  "z": [
                    1.98,
                    4.18
                  ]
                },
                {
                  "line": {
                    "color": [
                      "rgb(191.25, 127.50, 127.50)",
                      "rgb(191.25, 127.50, 127.50)",
                      "rgb(191.25, 127.50, 127.50)"
                    ],
                    "width": 1
                  },
                  "mode": "lines",
                  "showlegend": false,
                  "type": "scatter3d",
                  "x": [
                    103.168,
                    103.168,
                    102.981
                  ],
                  "y": [
                    100.409,
                    100.409,
                    101.116
                  ],
                  "z": [
                    4.18,
                    4.18,
                    1.98
                  ]
                },
                {
                  "line": {
                    "color": [
                      "rgb(0.00, 114.75, 255.00)",
                      "rgb(0.00, 255.00, 255.00)"
                    ],
                    "width": 4
                  },
                  "mode": "lines",
                  "showlegend": false,
                  "type": "scatter3d",
                  "x": [
                    102.981,
                    102.991
                  ],
                  "y": [
                    101.116,
                    101.126
                  ],
                  "z": [
                    1.98,
                    4.18
                  ]
                },
                {
                  "line": {
                    "color": [
                      "rgb(191.25, 127.50, 127.50)",
                      "rgb(191.25, 127.50, 127.50)",
                      "rgb(191.25, 127.50, 127.50)"
                    ],
                    "width": 1
                  },
                  "mode": "lines",
                  "showlegend": false,
                  "type": "scatter3d",
                  "x": [
                    102.991,
                    102.991,
                    102.643
                  ],
                  "y": [
                    101.126,
                    101.126,
                    101.774
                  ],
                  "z": [
                    4.18,
                    4.18,
                    1.98
                  ]
                },
                {
                  "line": {
                    "color": [
                      "rgb(0.00, 114.75, 255.00)",
                      "rgb(0.00, 255.00, 255.00)"
                    ],
                    "width": 4
                  },
                  "mode": "lines",
                  "showlegend": false,
                  "type": "scatter3d",
                  "x": [
                    102.643,
                    102.653
                  ],
                  "y": [
                    101.774,
                    101.784
                  ],
                  "z": [
                    1.98,
                    4.18
                  ]
                },
                {
                  "line": {
                    "color": [
                      "rgb(191.25, 127.50, 127.50)",
                      "rgb(191.25, 127.50, 127.50)",
                      "rgb(191.25, 127.50, 127.50)"
                    ],
                    "width": 1
                  },
                  "mode": "lines",
                  "showlegend": false,
                  "type": "scatter3d",
                  "x": [
                    102.653,
                    102.653,
                    102.163
                  ],
                  "y": [
                    101.784,
                    101.784,
                    102.336
                  ],
                  "z": [
                    4.18,
                    4.18,
                    1.98
                  ]
                },
                {
                  "line": {
                    "color": [
                      "rgb(0.00, 114.75, 255.00)",
                      "rgb(0.00, 255.00, 255.00)"
                    ],
                    "width": 4
                  },
                  "mode": "lines",
                  "showlegend": false,
                  "type": "scatter3d",
                  "x": [
                    102.163,
                    102.173
                  ],
                  "y": [
                    102.336,
                    102.346
                  ],
                  "z": [
                    1.98,
                    4.18
                  ]
                },
                {
                  "line": {
                    "color": [
                      "rgb(191.25, 127.50, 127.50)",
                      "rgb(191.25, 127.50, 127.50)",
                      "rgb(191.25, 127.50, 127.50)"
                    ],
                    "width": 1
                  },
                  "mode": "lines",
                  "showlegend": false,
                  "type": "scatter3d",
                  "x": [
                    102.173,
                    102.173,
                    101.566
                  ],
                  "y": [
                    102.346,
                    102.346,
                    102.771
                  ],
                  "z": [
                    4.18,
                    4.18,
                    1.98
                  ]
                },
                {
                  "line": {
                    "color": [
                      "rgb(0.00, 114.75, 255.00)",
                      "rgb(0.00, 255.00, 255.00)"
                    ],
                    "width": 4
                  },
                  "mode": "lines",
                  "showlegend": false,
                  "type": "scatter3d",
                  "x": [
                    101.566,
                    101.576
                  ],
                  "y": [
                    102.771,
                    102.781
                  ],
                  "z": [
                    1.98,
                    4.18
                  ]
                },
                {
                  "line": {
                    "color": [
                      "rgb(191.25, 127.50, 127.50)",
                      "rgb(191.25, 127.50, 127.50)",
                      "rgb(191.25, 127.50, 127.50)"
                    ],
                    "width": 1
                  },
                  "mode": "lines",
                  "showlegend": false,
                  "type": "scatter3d",
                  "x": [
                    101.576,
                    101.576,
                    100.884
                  ],
                  "y": [
                    102.781,
                    102.781,
                    103.058
                  ],
                  "z": [
                    4.18,
                    4.18,
                    1.98
                  ]
                },
                {
                  "line": {
                    "color": [
                      "rgb(0.00, 114.75, 255.00)",
                      "rgb(0.00, 255.00, 255.00)"
                    ],
                    "width": 4
                  },
                  "mode": "lines",
                  "showlegend": false,
                  "type": "scatter3d",
                  "x": [
                    100.884,
                    100.894
                  ],
                  "y": [
                    103.058,
                    103.068
                  ],
                  "z": [
                    1.98,
                    4.18
                  ]
                },
                {
                  "line": {
                    "color": [
                      "rgb(191.25, 127.50, 127.50)",
                      "rgb(191.25, 127.50, 127.50)",
                      "rgb(191.25, 127.50, 127.50)"
                    ],
                    "width": 1
                  },
                  "mode": "lines",
                  "showlegend": false,
                  "type": "scatter3d",
                  "x": [
                    100.894,
                    100.894,
                    100.155
                  ],
                  "y": [
                    103.068,
                    103.068,
                    103.179
                  ],
                  "z": [
                    4.18,
                    4.18,
                    1.98
                  ]
                },
                {
                  "line": {
                    "color": [
                      "rgb(0.00, 114.75, 255.00)",
                      "rgb(0.00, 255.00, 255.00)"
                    ],
                    "width": 4
                  },
                  "mode": "lines",
                  "showlegend": false,
                  "type": "scatter3d",
                  "x": [
                    100.155,
                    100.165
                  ],
                  "y": [
                    103.179,
                    103.189
                  ],
                  "z": [
                    1.98,
                    4.18
                  ]
                },
                {
                  "line": {
                    "color": [
                      "rgb(191.25, 127.50, 127.50)",
                      "rgb(191.25, 127.50, 127.50)",
                      "rgb(191.25, 127.50, 127.50)"
                    ],
                    "width": 1
                  },
                  "mode": "lines",
                  "showlegend": false,
                  "type": "scatter3d",
                  "x": [
                    100.165,
                    100.165,
                    99.418
                  ],
                  "y": [
                    103.189,
                    103.189,
                    103.129
                  ],
                  "z": [
                    4.18,
                    4.18,
                    1.98
                  ]
                },
                {
                  "line": {
                    "color": [
                      "rgb(0.00, 114.75, 255.00)",
                      "rgb(0.00, 255.00, 255.00)"
                    ],
                    "width": 4
                  },
                  "mode": "lines",
                  "showlegend": false,
                  "type": "scatter3d",
                  "x": [
                    99.418,
                    99.428
                  ],
                  "y": [
                    103.129,
                    103.139
                  ],
                  "z": [
                    1.98,
                    4.18
                  ]
                },
                {
                  "line": {
                    "color": [
                      "rgb(191.25, 127.50, 127.50)",
                      "rgb(191.25, 127.50, 127.50)",
                      "rgb(191.25, 127.50, 127.50)"
                    ],
                    "width": 1
                  },
                  "mode": "lines",
                  "showlegend": false,
                  "type": "scatter3d",
                  "x": [
                    99.428,
                    99.428,
                    98.712
                  ],
                  "y": [
                    103.139,
                    103.139,
                    102.911
                  ],
                  "z": [
                    4.18,
                    4.18,
                    1.98
                  ]
                },
                {
                  "line": {
                    "color": [
                      "rgb(0.00, 114.75, 255.00)",
                      "rgb(0.00, 255.00, 255.00)"
                    ],
                    "width": 4
                  },
                  "mode": "lines",
                  "showlegend": false,
                  "type": "scatter3d",
                  "x": [
                    98.712,
                    98.722
                  ],
                  "y": [
                    102.911,
                    102.921
                  ],
                  "z": [
                    1.98,
                    4.18
                  ]
                },
                {
                  "line": {
                    "color": [
                      "rgb(191.25, 127.50, 127.50)",
                      "rgb(191.25, 127.50, 127.50)",
                      "rgb(191.25, 127.50, 127.50)"
                    ],
                    "width": 1
                  },
                  "mode": "lines",
                  "showlegend": false,
                  "type": "scatter3d",
                  "x": [
                    98.722,
                    98.722,
                    98.076
                  ],
                  "y": [
                    102.921,
                    102.921,
                    102.535
                  ],
                  "z": [
                    4.18,
                    4.18,
                    1.98
                  ]
                },
                {
                  "line": {
                    "color": [
                      "rgb(0.00, 114.75, 255.00)",
                      "rgb(0.00, 255.00, 255.00)"
                    ],
                    "width": 4
                  },
                  "mode": "lines",
                  "showlegend": false,
                  "type": "scatter3d",
                  "x": [
                    98.076,
                    98.086
                  ],
                  "y": [
                    102.535,
                    102.545
                  ],
                  "z": [
                    1.98,
                    4.18
                  ]
                },
                {
                  "line": {
                    "color": [
                      "rgb(191.25, 127.50, 127.50)",
                      "rgb(191.25, 127.50, 127.50)",
                      "rgb(191.25, 127.50, 127.50)"
                    ],
                    "width": 1
                  },
                  "mode": "lines",
                  "showlegend": false,
                  "type": "scatter3d",
                  "x": [
                    98.086,
                    98.086,
                    97.543
                  ],
                  "y": [
                    102.545,
                    102.545,
                    102.023
                  ],
                  "z": [
                    4.18,
                    4.18,
                    1.98
                  ]
                },
                {
                  "line": {
                    "color": [
                      "rgb(0.00, 114.75, 255.00)",
                      "rgb(0.00, 255.00, 255.00)"
                    ],
                    "width": 4
                  },
                  "mode": "lines",
                  "showlegend": false,
                  "type": "scatter3d",
                  "x": [
                    97.543,
                    97.553
                  ],
                  "y": [
                    102.023,
                    102.033
                  ],
                  "z": [
                    1.98,
                    4.18
                  ]
                },
                {
                  "line": {
                    "color": [
                      "rgb(191.25, 127.50, 127.50)",
                      "rgb(191.25, 127.50, 127.50)",
                      "rgb(191.25, 127.50, 127.50)"
                    ],
                    "width": 1
                  },
                  "mode": "lines",
                  "showlegend": false,
                  "type": "scatter3d",
                  "x": [
                    97.553,
                    97.553,
                    97.142
                  ],
                  "y": [
                    102.033,
                    102.033,
                    101.402
                  ],
                  "z": [
                    4.18,
                    4.18,
                    1.98
                  ]
                },
                {
                  "line": {
                    "color": [
                      "rgb(0.00, 114.75, 255.00)",
                      "rgb(0.00, 255.00, 255.00)"
                    ],
                    "width": 4
                  },
                  "mode": "lines",
                  "showlegend": false,
                  "type": "scatter3d",
                  "x": [
                    97.142,
                    97.152
                  ],
                  "y": [
                    101.402,
                    101.412
                  ],
                  "z": [
                    1.98,
                    4.18
                  ]
                },
                {
                  "line": {
                    "color": [
                      "rgb(191.25, 127.50, 127.50)",
                      "rgb(191.25, 127.50, 127.50)",
                      "rgb(191.25, 127.50, 127.50)"
                    ],
                    "width": 1
                  },
                  "mode": "lines",
                  "showlegend": false,
                  "type": "scatter3d",
                  "x": [
                    97.152,
                    97.152,
                    96.896
                  ],
                  "y": [
                    101.412,
                    101.412,
                    100.705
                  ],
                  "z": [
                    4.18,
                    4.18,
                    1.98
                  ]
                },
                {
                  "line": {
                    "color": [
                      "rgb(0.00, 114.75, 255.00)",
                      "rgb(0.00, 255.00, 255.00)"
                    ],
                    "width": 4
                  },
                  "mode": "lines",
                  "showlegend": false,
                  "type": "scatter3d",
                  "x": [
                    96.896,
                    96.906
                  ],
                  "y": [
                    100.705,
                    100.715
                  ],
                  "z": [
                    1.98,
                    4.18
                  ]
                },
                {
                  "line": {
                    "color": [
                      "rgb(191.25, 127.50, 127.50)",
                      "rgb(191.25, 127.50, 127.50)",
                      "rgb(191.25, 127.50, 127.50)"
                    ],
                    "width": 1
                  },
                  "mode": "lines",
                  "showlegend": false,
                  "type": "scatter3d",
                  "x": [
                    96.906,
                    96.906,
                    96.817
                  ],
                  "y": [
                    100.715,
                    100.715,
                    99.97
                  ],
                  "z": [
                    4.18,
                    4.18,
                    1.98
                  ]
                },
                {
                  "line": {
                    "color": [
                      "rgb(0.00, 114.75, 255.00)",
                      "rgb(0.00, 255.00, 255.00)"
                    ],
                    "width": 4
                  },
                  "mode": "lines",
                  "showlegend": false,
                  "type": "scatter3d",
                  "x": [
                    96.817,
                    96.827
                  ],
                  "y": [
                    99.97,
                    99.98
                  ],
                  "z": [
                    1.98,
                    4.18
                  ]
                },
                {
                  "line": {
                    "color": [
                      "rgb(191.25, 127.50, 127.50)",
                      "rgb(191.25, 127.50, 127.50)",
                      "rgb(191.25, 127.50, 127.50)"
                    ],
                    "width": 1
                  },
                  "mode": "lines",
                  "showlegend": false,
                  "type": "scatter3d",
                  "x": [
                    96.827,
                    96.827,
                    96.91
                  ],
                  "y": [
                    99.98,
                    99.98,
                    99.237
                  ],
                  "z": [
                    4.18,
                    4.18,
                    1.98
                  ]
                },
                {
                  "line": {
                    "color": [
                      "rgb(0.00, 114.75, 255.00)",
                      "rgb(0.00, 255.00, 255.00)"
                    ],
                    "width": 4
                  },
                  "mode": "lines",
                  "showlegend": false,
                  "type": "scatter3d",
                  "x": [
                    96.91,
                    96.92
                  ],
                  "y": [
                    99.237,
                    99.247
                  ],
                  "z": [
                    1.98,
                    4.18
                  ]
                },
                {
                  "line": {
                    "color": [
                      "rgb(191.25, 127.50, 127.50)",
                      "rgb(191.25, 127.50, 127.50)",
                      "rgb(191.25, 127.50, 127.50)"
                    ],
                    "width": 1
                  },
                  "mode": "lines",
                  "showlegend": false,
                  "type": "scatter3d",
                  "x": [
                    96.92,
                    96.92,
                    97.169
                  ],
                  "y": [
                    99.247,
                    99.247,
                    98.545
                  ],
                  "z": [
                    4.18,
                    4.18,
                    1.98
                  ]
                },
                {
                  "line": {
                    "color": [
                      "rgb(0.00, 114.75, 255.00)",
                      "rgb(0.00, 255.00, 255.00)"
                    ],
                    "width": 4
                  },
                  "mode": "lines",
                  "showlegend": false,
                  "type": "scatter3d",
                  "x": [
                    97.169,
                    97.179
                  ],
                  "y": [
                    98.545,
                    98.555
                  ],
                  "z": [
                    1.98,
                    4.18
                  ]
                },
                {
                  "line": {
                    "color": [
                      "rgb(191.25, 127.50, 127.50)",
                      "rgb(191.25, 127.50, 127.50)",
                      "rgb(191.25, 127.50, 127.50)"
                    ],
                    "width": 1
                  },
                  "mode": "lines",
                  "showlegend": false,
                  "type": "scatter3d",
                  "x": [
                    97.179,
                    97.179,
                    97.581
                  ],
                  "y": [
                    98.555,
                    98.555,
                    97.931
                  ],
                  "z": [
                    4.18,
                    4.18,
                    1.98
                  ]
                },
                {
                  "line": {
                    "color": [
                      "rgb(0.00, 114.75, 255.00)",
                      "rgb(0.00, 255.00, 255.00)"
                    ],
                    "width": 4
                  },
                  "mode": "lines",
                  "showlegend": false,
                  "type": "scatter3d",
                  "x": [
                    97.581,
                    97.591
                  ],
                  "y": [
                    97.931,
                    97.941
                  ],
                  "z": [
                    1.98,
                    4.18
                  ]
                },
                {
                  "line": {
                    "color": [
                      "rgb(191.25, 127.50, 127.50)",
                      "rgb(191.25, 127.50, 127.50)",
                      "rgb(191.25, 127.50, 127.50)"
                    ],
                    "width": 1
                  },
                  "mode": "lines",
                  "showlegend": false,
                  "type": "scatter3d",
                  "x": [
                    97.591,
                    97.591,
                    98.123
                  ],
                  "y": [
                    97.941,
                    97.941,
                    97.429
                  ],
                  "z": [
                    4.18,
                    4.18,
                    1.98
                  ]
                },
                {
                  "line": {
                    "color": [
                      "rgb(0.00, 114.75, 255.00)",
                      "rgb(0.00, 255.00, 255.00)"
                    ],
                    "width": 4
                  },
                  "mode": "lines",
                  "showlegend": false,
                  "type": "scatter3d",
                  "x": [
                    98.123,
                    98.133
                  ],
                  "y": [
                    97.429,
                    97.439
                  ],
                  "z": [
                    1.98,
                    4.18
                  ]
                },
                {
                  "line": {
                    "color": [
                      "rgb(191.25, 127.50, 127.50)",
                      "rgb(191.25, 127.50, 127.50)",
                      "rgb(191.25, 127.50, 127.50)"
                    ],
                    "width": 1
                  },
                  "mode": "lines",
                  "showlegend": false,
                  "type": "scatter3d",
                  "x": [
                    98.133,
                    98.133,
                    98.766
                  ],
                  "y": [
                    97.439,
                    97.439,
                    97.066
                  ],
                  "z": [
                    4.18,
                    4.18,
                    1.98
                  ]
                },
                {
                  "line": {
                    "color": [
                      "rgb(0.00, 114.75, 255.00)",
                      "rgb(0.00, 255.00, 255.00)"
                    ],
                    "width": 4
                  },
                  "mode": "lines",
                  "showlegend": false,
                  "type": "scatter3d",
                  "x": [
                    98.766,
                    98.776
                  ],
                  "y": [
                    97.066,
                    97.076
                  ],
                  "z": [
                    1.98,
                    4.18
                  ]
                },
                {
                  "line": {
                    "color": [
                      "rgb(191.25, 127.50, 127.50)",
                      "rgb(191.25, 127.50, 127.50)",
                      "rgb(191.25, 127.50, 127.50)"
                    ],
                    "width": 1
                  },
                  "mode": "lines",
                  "showlegend": false,
                  "type": "scatter3d",
                  "x": [
                    98.776,
                    98.776,
                    99.476
                  ],
                  "y": [
                    97.076,
                    97.076,
                    96.86
                  ],
                  "z": [
                    4.18,
                    4.18,
                    1.98
                  ]
                },
                {
                  "line": {
                    "color": [
                      "rgb(0.00, 114.75, 255.00)",
                      "rgb(0.00, 255.00, 255.00)"
                    ],
                    "width": 4
                  },
                  "mode": "lines",
                  "showlegend": false,
                  "type": "scatter3d",
                  "x": [
                    99.476,
                    99.486
                  ],
                  "y": [
                    96.86,
                    96.87
                  ],
                  "z": [
                    1.98,
                    4.18
                  ]
                },
                {
                  "line": {
                    "color": [
                      "rgb(191.25, 127.50, 127.50)",
                      "rgb(191.25, 127.50, 127.50)",
                      "rgb(191.25, 127.50, 127.50)"
                    ],
                    "width": 1
                  },
                  "mode": "lines",
                  "showlegend": false,
                  "type": "scatter3d",
                  "x": [
                    99.486,
                    99.486,
                    100.215
                  ],
                  "y": [
                    96.87,
                    96.87,
                    96.824
                  ],
                  "z": [
                    4.18,
                    4.18,
                    1.98
                  ]
                },
                {
                  "line": {
                    "color": [
                      "rgb(0.00, 114.75, 255.00)",
                      "rgb(0.00, 255.00, 255.00)"
                    ],
                    "width": 4
                  },
                  "mode": "lines",
                  "showlegend": false,
                  "type": "scatter3d",
                  "x": [
                    100.215,
                    100.225
                  ],
                  "y": [
                    96.824,
                    96.834
                  ],
                  "z": [
                    1.98,
                    4.18
                  ]
                },
                {
                  "line": {
                    "color": [
                      "rgb(191.25, 127.50, 127.50)",
                      "rgb(191.25, 127.50, 127.50)",
                      "rgb(191.25, 127.50, 127.50)"
                    ],
                    "width": 1
                  },
                  "mode": "lines",
                  "showlegend": false,
                  "type": "scatter3d",
                  "x": [
                    100.225,
                    100.225,
                    100.941
                  ],
                  "y": [
                    96.834,
                    96.834,
                    96.959
                  ],
                  "z": [
                    4.18,
                    4.18,
                    1.98
                  ]
                },
                {
                  "line": {
                    "color": [
                      "rgb(0.00, 114.75, 255.00)",
                      "rgb(0.00, 255.00, 255.00)"
                    ],
                    "width": 4
                  },
                  "mode": "lines",
                  "showlegend": false,
                  "type": "scatter3d",
                  "x": [
                    100.941,
                    100.951
                  ],
                  "y": [
                    96.959,
                    96.969
                  ],
                  "z": [
                    1.98,
                    4.18
                  ]
                },
                {
                  "line": {
                    "color": [
                      "rgb(191.25, 127.50, 127.50)",
                      "rgb(191.25, 127.50, 127.50)",
                      "rgb(191.25, 127.50, 127.50)"
                    ],
                    "width": 1
                  },
                  "mode": "lines",
                  "showlegend": false,
                  "type": "scatter3d",
                  "x": [
                    100.951,
                    100.951,
                    101.617
                  ],
                  "y": [
                    96.969,
                    96.969,
                    97.258
                  ],
                  "z": [
                    4.18,
                    4.18,
                    1.98
                  ]
                },
                {
                  "line": {
                    "color": [
                      "rgb(0.00, 114.75, 255.00)",
                      "rgb(0.00, 255.00, 255.00)"
                    ],
                    "width": 4
                  },
                  "mode": "lines",
                  "showlegend": false,
                  "type": "scatter3d",
                  "x": [
                    101.617,
                    101.627
                  ],
                  "y": [
                    97.258,
                    97.268
                  ],
                  "z": [
                    1.98,
                    4.18
                  ]
                },
                {
                  "line": {
                    "color": [
                      "rgb(191.25, 127.50, 127.50)",
                      "rgb(191.25, 127.50, 127.50)",
                      "rgb(191.25, 127.50, 127.50)"
                    ],
                    "width": 1
                  },
                  "mode": "lines",
                  "showlegend": false,
                  "type": "scatter3d",
                  "x": [
                    101.627,
                    101.627,
                    102.206
                  ],
                  "y": [
                    97.268,
                    97.268,
                    97.705
                  ],
                  "z": [
                    4.18,
                    4.18,
                    1.98
                  ]
                },
                {
                  "line": {
                    "color": [
                      "rgb(0.00, 114.75, 255.00)",
                      "rgb(0.00, 255.00, 255.00)"
                    ],
                    "width": 4
                  },
                  "mode": "lines",
                  "showlegend": false,
                  "type": "scatter3d",
                  "x": [
                    102.206,
                    102.216
                  ],
                  "y": [
                    97.705,
                    97.715
                  ],
                  "z": [
                    1.98,
                    4.18
                  ]
                },
                {
                  "line": {
                    "color": [
                      "rgb(191.25, 127.50, 127.50)",
                      "rgb(191.25, 127.50, 127.50)",
                      "rgb(191.25, 127.50, 127.50)"
                    ],
                    "width": 1
                  },
                  "mode": "lines",
                  "showlegend": false,
                  "type": "scatter3d",
                  "x": [
                    102.216,
                    102.216,
                    102.676
                  ],
                  "y": [
                    97.715,
                    97.715,
                    98.276
                  ],
                  "z": [
                    4.18,
                    4.18,
                    1.98
                  ]
                },
                {
                  "line": {
                    "color": [
                      "rgb(0.00, 114.75, 255.00)",
                      "rgb(0.00, 255.00, 255.00)"
                    ],
                    "width": 4
                  },
                  "mode": "lines",
                  "showlegend": false,
                  "type": "scatter3d",
                  "x": [
                    102.676,
                    102.686
                  ],
                  "y": [
                    98.276,
                    98.286
                  ],
                  "z": [
                    1.98,
                    4.18
                  ]
                },
                {
                  "line": {
                    "color": [
                      "rgb(191.25, 127.50, 127.50)",
                      "rgb(191.25, 127.50, 127.50)",
                      "rgb(191.25, 127.50, 127.50)"
                    ],
                    "width": 1
                  },
                  "mode": "lines",
                  "showlegend": false,
                  "type": "scatter3d",
                  "x": [
                    102.686,
                    102.686,
                    103.001
                  ],
                  "y": [
                    98.286,
                    98.286,
                    98.939
                  ],
                  "z": [
                    4.18,
                    4.18,
                    1.98
                  ]
                },
                {
                  "line": {
                    "color": [
                      "rgb(0.00, 114.75, 255.00)",
                      "rgb(0.00, 255.00, 255.00)"
                    ],
                    "width": 4
                  },
                  "mode": "lines",
                  "showlegend": false,
                  "type": "scatter3d",
                  "x": [
                    103.001,
                    103.011
                  ],
                  "y": [
                    98.939,
                    98.949
                  ],
                  "z": [
                    1.98,
                    4.18
                  ]
                },
                {
                  "line": {
                    "color": [
                      "rgb(191.25, 127.50, 127.50)",
                      "rgb(191.25, 127.50, 127.50)",
                      "rgb(191.25, 127.50, 127.50)"
                    ],
                    "width": 1
                  },
                  "mode": "lines",
                  "showlegend": false,
                  "type": "scatter3d",
                  "x": [
                    103.011,
                    103.011,
                    103.165
                  ],
                  "y": [
                    98.949,
                    98.949,
                    99.66
                  ],
                  "z": [
                    4.18,
                    4.18,
                    1.98
                  ]
                },
                {
                  "line": {
                    "color": [
                      "rgb(0.00, 114.75, 255.00)",
                      "rgb(0.00, 255.00, 255.00)"
                    ],
                    "width": 4
                  },
                  "mode": "lines",
                  "showlegend": false,
                  "type": "scatter3d",
                  "x": [
                    103.165,
                    103.175
                  ],
                  "y": [
                    99.66,
                    99.67
                  ],
                  "z": [
                    1.98,
                    4.18
                  ]
                },
                {
                  "line": {
                    "color": [
                      "rgb(191.25, 127.50, 127.50)",
                      "rgb(191.25, 127.50, 127.50)"
                    ],
                    "width": 1
                  },
                  "mode": "lines",
                  "showlegend": false,
                  "type": "scatter3d",
                  "x": [
                    103.175,
                    103.175
                  ],
                  "y": [
                    99.67,
                    99.67
                  ],
                  "z": [
                    4.18,
                    4.18
                  ]
                },
                {
                  "marker": {
                    "color": "red",
                    "size": 2
                  },
                  "mode": "markers",
                  "showlegend": false,
                  "type": "scatter3d",
                  "x": [],
                  "y": [],
                  "z": []
                }
              ],
              "layout": {
                "height": 500,
                "margin": {
                  "b": 10,
                  "l": 10,
                  "pad": 4,
                  "r": 10,
                  "t": 10
                },
                "paper_bgcolor": "black",
                "scene": {
                  "aspectmode": "cube",
                  "camera": {
                    "center": {
                      "x": 0,
                      "y": 0,
                      "z": -0.5
                    },
                    "eye": {
                      "x": -0.7142857142857143,
                      "y": -1.4285714285714286,
                      "z": 0.2142857142857143
                    }
                  },
                  "xaxis": {
                    "backgroundcolor": "black",
                    "nticks": 10,
                    "range": [
                      19.999000000000002,
                      103.19409886183792
                    ]
                  },
                  "yaxis": {
                    "backgroundcolor": "black",
                    "nticks": 10,
                    "range": [
                      19.99709990856517,
                      103.19219877040308
                    ]
                  },
                  "zaxis": {
                    "backgroundcolor": "black",
                    "nticks": 10,
                    "range": [
                      0,
                      83.1950988618379
                    ]
                  }
                },
                "template": {
                  "data": {
                    "bar": [
                      {
                        "error_x": {
                          "color": "#f2f5fa"
                        },
                        "error_y": {
                          "color": "#f2f5fa"
                        },
                        "marker": {
                          "line": {
                            "color": "rgb(17,17,17)",
                            "width": 0.5
                          },
                          "pattern": {
                            "fillmode": "overlay",
                            "size": 10,
                            "solidity": 0.2
                          }
                        },
                        "type": "bar"
                      }
                    ],
                    "barpolar": [
                      {
                        "marker": {
                          "line": {
                            "color": "rgb(17,17,17)",
                            "width": 0.5
                          },
                          "pattern": {
                            "fillmode": "overlay",
                            "size": 10,
                            "solidity": 0.2
                          }
                        },
                        "type": "barpolar"
                      }
                    ],
                    "carpet": [
                      {
                        "aaxis": {
                          "endlinecolor": "#A2B1C6",
                          "gridcolor": "#506784",
                          "linecolor": "#506784",
                          "minorgridcolor": "#506784",
                          "startlinecolor": "#A2B1C6"
                        },
                        "baxis": {
                          "endlinecolor": "#A2B1C6",
                          "gridcolor": "#506784",
                          "linecolor": "#506784",
                          "minorgridcolor": "#506784",
                          "startlinecolor": "#A2B1C6"
                        },
                        "type": "carpet"
                      }
                    ],
                    "choropleth": [
                      {
                        "colorbar": {
                          "outlinewidth": 0,
                          "ticks": ""
                        },
                        "type": "choropleth"
                      }
                    ],
                    "contour": [
                      {
                        "colorbar": {
                          "outlinewidth": 0,
                          "ticks": ""
                        },
                        "colorscale": [
                          [
                            0,
                            "#0d0887"
                          ],
                          [
                            0.1111111111111111,
                            "#46039f"
                          ],
                          [
                            0.2222222222222222,
                            "#7201a8"
                          ],
                          [
                            0.3333333333333333,
                            "#9c179e"
                          ],
                          [
                            0.4444444444444444,
                            "#bd3786"
                          ],
                          [
                            0.5555555555555556,
                            "#d8576b"
                          ],
                          [
                            0.6666666666666666,
                            "#ed7953"
                          ],
                          [
                            0.7777777777777778,
                            "#fb9f3a"
                          ],
                          [
                            0.8888888888888888,
                            "#fdca26"
                          ],
                          [
                            1,
                            "#f0f921"
                          ]
                        ],
                        "type": "contour"
                      }
                    ],
                    "contourcarpet": [
                      {
                        "colorbar": {
                          "outlinewidth": 0,
                          "ticks": ""
                        },
                        "type": "contourcarpet"
                      }
                    ],
                    "heatmap": [
                      {
                        "colorbar": {
                          "outlinewidth": 0,
                          "ticks": ""
                        },
                        "colorscale": [
                          [
                            0,
                            "#0d0887"
                          ],
                          [
                            0.1111111111111111,
                            "#46039f"
                          ],
                          [
                            0.2222222222222222,
                            "#7201a8"
                          ],
                          [
                            0.3333333333333333,
                            "#9c179e"
                          ],
                          [
                            0.4444444444444444,
                            "#bd3786"
                          ],
                          [
                            0.5555555555555556,
                            "#d8576b"
                          ],
                          [
                            0.6666666666666666,
                            "#ed7953"
                          ],
                          [
                            0.7777777777777778,
                            "#fb9f3a"
                          ],
                          [
                            0.8888888888888888,
                            "#fdca26"
                          ],
                          [
                            1,
                            "#f0f921"
                          ]
                        ],
                        "type": "heatmap"
                      }
                    ],
                    "heatmapgl": [
                      {
                        "colorbar": {
                          "outlinewidth": 0,
                          "ticks": ""
                        },
                        "colorscale": [
                          [
                            0,
                            "#0d0887"
                          ],
                          [
                            0.1111111111111111,
                            "#46039f"
                          ],
                          [
                            0.2222222222222222,
                            "#7201a8"
                          ],
                          [
                            0.3333333333333333,
                            "#9c179e"
                          ],
                          [
                            0.4444444444444444,
                            "#bd3786"
                          ],
                          [
                            0.5555555555555556,
                            "#d8576b"
                          ],
                          [
                            0.6666666666666666,
                            "#ed7953"
                          ],
                          [
                            0.7777777777777778,
                            "#fb9f3a"
                          ],
                          [
                            0.8888888888888888,
                            "#fdca26"
                          ],
                          [
                            1,
                            "#f0f921"
                          ]
                        ],
                        "type": "heatmapgl"
                      }
                    ],
                    "histogram": [
                      {
                        "marker": {
                          "pattern": {
                            "fillmode": "overlay",
                            "size": 10,
                            "solidity": 0.2
                          }
                        },
                        "type": "histogram"
                      }
                    ],
                    "histogram2d": [
                      {
                        "colorbar": {
                          "outlinewidth": 0,
                          "ticks": ""
                        },
                        "colorscale": [
                          [
                            0,
                            "#0d0887"
                          ],
                          [
                            0.1111111111111111,
                            "#46039f"
                          ],
                          [
                            0.2222222222222222,
                            "#7201a8"
                          ],
                          [
                            0.3333333333333333,
                            "#9c179e"
                          ],
                          [
                            0.4444444444444444,
                            "#bd3786"
                          ],
                          [
                            0.5555555555555556,
                            "#d8576b"
                          ],
                          [
                            0.6666666666666666,
                            "#ed7953"
                          ],
                          [
                            0.7777777777777778,
                            "#fb9f3a"
                          ],
                          [
                            0.8888888888888888,
                            "#fdca26"
                          ],
                          [
                            1,
                            "#f0f921"
                          ]
                        ],
                        "type": "histogram2d"
                      }
                    ],
                    "histogram2dcontour": [
                      {
                        "colorbar": {
                          "outlinewidth": 0,
                          "ticks": ""
                        },
                        "colorscale": [
                          [
                            0,
                            "#0d0887"
                          ],
                          [
                            0.1111111111111111,
                            "#46039f"
                          ],
                          [
                            0.2222222222222222,
                            "#7201a8"
                          ],
                          [
                            0.3333333333333333,
                            "#9c179e"
                          ],
                          [
                            0.4444444444444444,
                            "#bd3786"
                          ],
                          [
                            0.5555555555555556,
                            "#d8576b"
                          ],
                          [
                            0.6666666666666666,
                            "#ed7953"
                          ],
                          [
                            0.7777777777777778,
                            "#fb9f3a"
                          ],
                          [
                            0.8888888888888888,
                            "#fdca26"
                          ],
                          [
                            1,
                            "#f0f921"
                          ]
                        ],
                        "type": "histogram2dcontour"
                      }
                    ],
                    "mesh3d": [
                      {
                        "colorbar": {
                          "outlinewidth": 0,
                          "ticks": ""
                        },
                        "type": "mesh3d"
                      }
                    ],
                    "parcoords": [
                      {
                        "line": {
                          "colorbar": {
                            "outlinewidth": 0,
                            "ticks": ""
                          }
                        },
                        "type": "parcoords"
                      }
                    ],
                    "pie": [
                      {
                        "automargin": true,
                        "type": "pie"
                      }
                    ],
                    "scatter": [
                      {
                        "marker": {
                          "line": {
                            "color": "#283442"
                          }
                        },
                        "type": "scatter"
                      }
                    ],
                    "scatter3d": [
                      {
                        "line": {
                          "colorbar": {
                            "outlinewidth": 0,
                            "ticks": ""
                          }
                        },
                        "marker": {
                          "colorbar": {
                            "outlinewidth": 0,
                            "ticks": ""
                          }
                        },
                        "type": "scatter3d"
                      }
                    ],
                    "scattercarpet": [
                      {
                        "marker": {
                          "colorbar": {
                            "outlinewidth": 0,
                            "ticks": ""
                          }
                        },
                        "type": "scattercarpet"
                      }
                    ],
                    "scattergeo": [
                      {
                        "marker": {
                          "colorbar": {
                            "outlinewidth": 0,
                            "ticks": ""
                          }
                        },
                        "type": "scattergeo"
                      }
                    ],
                    "scattergl": [
                      {
                        "marker": {
                          "line": {
                            "color": "#283442"
                          }
                        },
                        "type": "scattergl"
                      }
                    ],
                    "scattermapbox": [
                      {
                        "marker": {
                          "colorbar": {
                            "outlinewidth": 0,
                            "ticks": ""
                          }
                        },
                        "type": "scattermapbox"
                      }
                    ],
                    "scatterpolar": [
                      {
                        "marker": {
                          "colorbar": {
                            "outlinewidth": 0,
                            "ticks": ""
                          }
                        },
                        "type": "scatterpolar"
                      }
                    ],
                    "scatterpolargl": [
                      {
                        "marker": {
                          "colorbar": {
                            "outlinewidth": 0,
                            "ticks": ""
                          }
                        },
                        "type": "scatterpolargl"
                      }
                    ],
                    "scatterternary": [
                      {
                        "marker": {
                          "colorbar": {
                            "outlinewidth": 0,
                            "ticks": ""
                          }
                        },
                        "type": "scatterternary"
                      }
                    ],
                    "surface": [
                      {
                        "colorbar": {
                          "outlinewidth": 0,
                          "ticks": ""
                        },
                        "colorscale": [
                          [
                            0,
                            "#0d0887"
                          ],
                          [
                            0.1111111111111111,
                            "#46039f"
                          ],
                          [
                            0.2222222222222222,
                            "#7201a8"
                          ],
                          [
                            0.3333333333333333,
                            "#9c179e"
                          ],
                          [
                            0.4444444444444444,
                            "#bd3786"
                          ],
                          [
                            0.5555555555555556,
                            "#d8576b"
                          ],
                          [
                            0.6666666666666666,
                            "#ed7953"
                          ],
                          [
                            0.7777777777777778,
                            "#fb9f3a"
                          ],
                          [
                            0.8888888888888888,
                            "#fdca26"
                          ],
                          [
                            1,
                            "#f0f921"
                          ]
                        ],
                        "type": "surface"
                      }
                    ],
                    "table": [
                      {
                        "cells": {
                          "fill": {
                            "color": "#506784"
                          },
                          "line": {
                            "color": "rgb(17,17,17)"
                          }
                        },
                        "header": {
                          "fill": {
                            "color": "#2a3f5f"
                          },
                          "line": {
                            "color": "rgb(17,17,17)"
                          }
                        },
                        "type": "table"
                      }
                    ]
                  },
                  "layout": {
                    "annotationdefaults": {
                      "arrowcolor": "#f2f5fa",
                      "arrowhead": 0,
                      "arrowwidth": 1
                    },
                    "autotypenumbers": "strict",
                    "coloraxis": {
                      "colorbar": {
                        "outlinewidth": 0,
                        "ticks": ""
                      }
                    },
                    "colorscale": {
                      "diverging": [
                        [
                          0,
                          "#8e0152"
                        ],
                        [
                          0.1,
                          "#c51b7d"
                        ],
                        [
                          0.2,
                          "#de77ae"
                        ],
                        [
                          0.3,
                          "#f1b6da"
                        ],
                        [
                          0.4,
                          "#fde0ef"
                        ],
                        [
                          0.5,
                          "#f7f7f7"
                        ],
                        [
                          0.6,
                          "#e6f5d0"
                        ],
                        [
                          0.7,
                          "#b8e186"
                        ],
                        [
                          0.8,
                          "#7fbc41"
                        ],
                        [
                          0.9,
                          "#4d9221"
                        ],
                        [
                          1,
                          "#276419"
                        ]
                      ],
                      "sequential": [
                        [
                          0,
                          "#0d0887"
                        ],
                        [
                          0.1111111111111111,
                          "#46039f"
                        ],
                        [
                          0.2222222222222222,
                          "#7201a8"
                        ],
                        [
                          0.3333333333333333,
                          "#9c179e"
                        ],
                        [
                          0.4444444444444444,
                          "#bd3786"
                        ],
                        [
                          0.5555555555555556,
                          "#d8576b"
                        ],
                        [
                          0.6666666666666666,
                          "#ed7953"
                        ],
                        [
                          0.7777777777777778,
                          "#fb9f3a"
                        ],
                        [
                          0.8888888888888888,
                          "#fdca26"
                        ],
                        [
                          1,
                          "#f0f921"
                        ]
                      ],
                      "sequentialminus": [
                        [
                          0,
                          "#0d0887"
                        ],
                        [
                          0.1111111111111111,
                          "#46039f"
                        ],
                        [
                          0.2222222222222222,
                          "#7201a8"
                        ],
                        [
                          0.3333333333333333,
                          "#9c179e"
                        ],
                        [
                          0.4444444444444444,
                          "#bd3786"
                        ],
                        [
                          0.5555555555555556,
                          "#d8576b"
                        ],
                        [
                          0.6666666666666666,
                          "#ed7953"
                        ],
                        [
                          0.7777777777777778,
                          "#fb9f3a"
                        ],
                        [
                          0.8888888888888888,
                          "#fdca26"
                        ],
                        [
                          1,
                          "#f0f921"
                        ]
                      ]
                    },
                    "colorway": [
                      "#636efa",
                      "#EF553B",
                      "#00cc96",
                      "#ab63fa",
                      "#FFA15A",
                      "#19d3f3",
                      "#FF6692",
                      "#B6E880",
                      "#FF97FF",
                      "#FECB52"
                    ],
                    "font": {
                      "color": "#f2f5fa"
                    },
                    "geo": {
                      "bgcolor": "rgb(17,17,17)",
                      "lakecolor": "rgb(17,17,17)",
                      "landcolor": "rgb(17,17,17)",
                      "showlakes": true,
                      "showland": true,
                      "subunitcolor": "#506784"
                    },
                    "hoverlabel": {
                      "align": "left"
                    },
                    "hovermode": "closest",
                    "mapbox": {
                      "style": "dark"
                    },
                    "paper_bgcolor": "rgb(17,17,17)",
                    "plot_bgcolor": "rgb(17,17,17)",
                    "polar": {
                      "angularaxis": {
                        "gridcolor": "#506784",
                        "linecolor": "#506784",
                        "ticks": ""
                      },
                      "bgcolor": "rgb(17,17,17)",
                      "radialaxis": {
                        "gridcolor": "#506784",
                        "linecolor": "#506784",
                        "ticks": ""
                      }
                    },
                    "scene": {
                      "xaxis": {
                        "backgroundcolor": "rgb(17,17,17)",
                        "gridcolor": "#506784",
                        "gridwidth": 2,
                        "linecolor": "#506784",
                        "showbackground": true,
                        "ticks": "",
                        "zerolinecolor": "#C8D4E3"
                      },
                      "yaxis": {
                        "backgroundcolor": "rgb(17,17,17)",
                        "gridcolor": "#506784",
                        "gridwidth": 2,
                        "linecolor": "#506784",
                        "showbackground": true,
                        "ticks": "",
                        "zerolinecolor": "#C8D4E3"
                      },
                      "zaxis": {
                        "backgroundcolor": "rgb(17,17,17)",
                        "gridcolor": "#506784",
                        "gridwidth": 2,
                        "linecolor": "#506784",
                        "showbackground": true,
                        "ticks": "",
                        "zerolinecolor": "#C8D4E3"
                      }
                    },
                    "shapedefaults": {
                      "line": {
                        "color": "#f2f5fa"
                      }
                    },
                    "sliderdefaults": {
                      "bgcolor": "#C8D4E3",
                      "bordercolor": "rgb(17,17,17)",
                      "borderwidth": 1,
                      "tickwidth": 0
                    },
                    "ternary": {
                      "aaxis": {
                        "gridcolor": "#506784",
                        "linecolor": "#506784",
                        "ticks": ""
                      },
                      "baxis": {
                        "gridcolor": "#506784",
                        "linecolor": "#506784",
                        "ticks": ""
                      },
                      "bgcolor": "rgb(17,17,17)",
                      "caxis": {
                        "gridcolor": "#506784",
                        "linecolor": "#506784",
                        "ticks": ""
                      }
                    },
                    "title": {
                      "x": 0.05
                    },
                    "updatemenudefaults": {
                      "bgcolor": "#506784",
                      "borderwidth": 0
                    },
                    "xaxis": {
                      "automargin": true,
                      "gridcolor": "#283442",
                      "linecolor": "#506784",
                      "ticks": "",
                      "title": {
                        "standoff": 15
                      },
                      "zerolinecolor": "#283442",
                      "zerolinewidth": 2
                    },
                    "yaxis": {
                      "automargin": true,
                      "gridcolor": "#283442",
                      "linecolor": "#506784",
                      "ticks": "",
                      "title": {
                        "standoff": 15
                      },
                      "zerolinecolor": "#283442",
                      "zerolinewidth": 2
                    }
                  }
                },
                "width": 800
              }
            }
          },
          "metadata": {},
          "output_type": "display_data"
        }
      ],
      "source": [
        "# preview the design\n",
        "\n",
        "fc.transform(steps, 'plot', fc.PlotControls(style='line', zoom=0.7))\n",
        "# hover the cursor over the lines in the plot to check xyz positions of the points in the design\n",
        "\n",
        "# uncomment the next line to create a plot with real heights/widths for extruded lines to preview the real 3D printed geometry\n",
        "# fc.transform(steps, 'plot', fc.PlotControls(style='tube', zoom=0.7, initialization_data={'extrusion_width': EW, 'extrusion_height': EH}))\n",
        "\n",
        "# uncomment the next line to create a neat preview (click the top-left button in the plot for a .png file) - post and tag @FullControlXYZ :)\n",
        "# fc.transform(steps, 'plot', fc.PlotControls(neat_for_publishing=True, zoom=0.5, initialization_data={'extrusion_width': EW, 'extrusion_height': EH}))\n"
      ]
    },
    {
      "cell_type": "code",
      "execution_count": 98,
      "metadata": {
        "colab": {
          "base_uri": "https://localhost:8080/",
          "height": 17
        },
        "id": "tggFoUeJReQR",
        "outputId": "3e9733ce-224b-4aa9-abe7-d54bca6a0a96"
      },
      "outputs": [],
      "source": [
        "# generate and save gcode\n",
        "\n",
        "gcode_controls = fc.GcodeControls(\n",
        "    printer_name=printer_name,\n",
        "    save_as=design_name,\n",
        "    initialization_data={\n",
        "        'primer': 'front_lines_then_y',\n",
        "        'print_speed': print_speed,\n",
        "        'nozzle_temp': nozzle_temp,\n",
        "        'bed_temp': bed_temp,\n",
        "        'fan_percent': fan_percent,\n",
        "        'extrusion_width': EW,\n",
        "        'extrusion_height': EH})\n",
        "gcode = fc.transform(steps, 'gcode', gcode_controls)"
      ]
    },
    {
      "attachments": {},
      "cell_type": "markdown",
      "metadata": {},
      "source": [
        "#### please tell us what you're doing with FullControl!\n",
        "\n",
        "- tag FullControlXYZ on social media ([twitter](https://twitter.com/FullControlXYZ), [instagram](https://www.instagram.com/fullcontrolxyz/), [linkedin](https://www.linkedin.com/in/andrew-gleadall-068587119/), [tiktok](https://www.tiktok.com/@fullcontrolxyz))\n",
        "- email [info@fullcontrol.xyz](mailto:info@fullcontrol.xyz)\n",
        "- post on the [subreddit](https://reddit.com/r/fullcontrol)\n",
        "- post in the [github discussions or issues tabs](https://github.com/FullControlXYZ/fullcontrol/issues)\n",
        "\n",
        "in publications, please cite the original FullControl paper and the github repo for the new python version:\n",
        "\n",
        "- Gleadall, A. (2021). FullControl GCode Designer: open-source software for unconstrained design in additive manufacturing. Additive Manufacturing, 46, 102109. \n",
        "- Gleadall, A. and Leas, D. (2023). FullControl [electronic resource: python source code]. available at: https://github.com/FullControlXYZ/fullcontrol"
      ]
    }
  ],
  "metadata": {
    "colab": {
      "include_colab_link": true,
      "provenance": []
    },
    "kernelspec": {
      "display_name": "Python 3",
      "name": "python3"
    },
    "language_info": {
      "codemirror_mode": {
        "name": "ipython",
        "version": 3
      },
      "file_extension": ".py",
      "mimetype": "text/x-python",
      "name": "python",
      "nbconvert_exporter": "python",
      "pygments_lexer": "ipython3",
      "version": "3.10.14"
    }
  },
  "nbformat": 4,
  "nbformat_minor": 0
}
